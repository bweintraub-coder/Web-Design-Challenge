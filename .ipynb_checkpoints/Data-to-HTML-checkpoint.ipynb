{
 "cells": [
  {
   "cell_type": "code",
   "execution_count": 2,
   "metadata": {},
   "outputs": [],
   "source": [
    "# Import Dependencies\n",
    "import pandas as pd\n",
    "import os"
   ]
  },
  {
   "cell_type": "code",
   "execution_count": 3,
   "metadata": {
    "scrolled": false
   },
   "outputs": [
    {
     "data": {
      "text/plain": [
       "'Resources/cities.csv'"
      ]
     },
     "execution_count": 3,
     "metadata": {},
     "output_type": "execute_result"
    }
   ],
   "source": [
    "# Define path to csv file\n",
    "cities_file = os.path.join(\"Resources\",\"cities.csv\")\n",
    "cities_file"
   ]
  },
  {
   "cell_type": "code",
   "execution_count": 9,
   "metadata": {},
   "outputs": [
    {
     "data": {
      "text/html": [
       "<div>\n",
       "<style scoped>\n",
       "    .dataframe tbody tr th:only-of-type {\n",
       "        vertical-align: middle;\n",
       "    }\n",
       "\n",
       "    .dataframe tbody tr th {\n",
       "        vertical-align: top;\n",
       "    }\n",
       "\n",
       "    .dataframe thead th {\n",
       "        text-align: right;\n",
       "    }\n",
       "</style>\n",
       "<table border=\"1\" class=\"dataframe\">\n",
       "  <thead>\n",
       "    <tr style=\"text-align: right;\">\n",
       "      <th></th>\n",
       "      <th>City_ID</th>\n",
       "      <th>City</th>\n",
       "      <th>Country</th>\n",
       "      <th>Lat</th>\n",
       "      <th>Max Temp</th>\n",
       "      <th>Lng</th>\n",
       "      <th>Cloudiness</th>\n",
       "      <th>Wind Speed</th>\n",
       "      <th>Humidity</th>\n",
       "    </tr>\n",
       "  </thead>\n",
       "  <tbody>\n",
       "    <tr>\n",
       "      <td>0</td>\n",
       "      <td>0</td>\n",
       "      <td>jacareacanga</td>\n",
       "      <td>BR</td>\n",
       "      <td>-6.22</td>\n",
       "      <td>89.60</td>\n",
       "      <td>-57.76</td>\n",
       "      <td>0</td>\n",
       "      <td>6.93</td>\n",
       "      <td>62</td>\n",
       "    </tr>\n",
       "    <tr>\n",
       "      <td>1</td>\n",
       "      <td>1</td>\n",
       "      <td>kaitangata</td>\n",
       "      <td>NZ</td>\n",
       "      <td>-46.28</td>\n",
       "      <td>42.61</td>\n",
       "      <td>169.85</td>\n",
       "      <td>100</td>\n",
       "      <td>5.64</td>\n",
       "      <td>94</td>\n",
       "    </tr>\n",
       "    <tr>\n",
       "      <td>2</td>\n",
       "      <td>2</td>\n",
       "      <td>goulburn</td>\n",
       "      <td>AU</td>\n",
       "      <td>-34.75</td>\n",
       "      <td>44.32</td>\n",
       "      <td>149.72</td>\n",
       "      <td>20</td>\n",
       "      <td>10.11</td>\n",
       "      <td>91</td>\n",
       "    </tr>\n",
       "    <tr>\n",
       "      <td>3</td>\n",
       "      <td>3</td>\n",
       "      <td>lata</td>\n",
       "      <td>IN</td>\n",
       "      <td>30.78</td>\n",
       "      <td>59.89</td>\n",
       "      <td>78.62</td>\n",
       "      <td>76</td>\n",
       "      <td>0.94</td>\n",
       "      <td>89</td>\n",
       "    </tr>\n",
       "    <tr>\n",
       "      <td>4</td>\n",
       "      <td>4</td>\n",
       "      <td>chokurdakh</td>\n",
       "      <td>RU</td>\n",
       "      <td>70.62</td>\n",
       "      <td>32.17</td>\n",
       "      <td>147.90</td>\n",
       "      <td>0</td>\n",
       "      <td>2.95</td>\n",
       "      <td>88</td>\n",
       "    </tr>\n",
       "  </tbody>\n",
       "</table>\n",
       "</div>"
      ],
      "text/plain": [
       "   City_ID          City Country    Lat  Max Temp     Lng  Cloudiness  \\\n",
       "0        0  jacareacanga      BR  -6.22     89.60  -57.76           0   \n",
       "1        1    kaitangata      NZ -46.28     42.61  169.85         100   \n",
       "2        2      goulburn      AU -34.75     44.32  149.72          20   \n",
       "3        3          lata      IN  30.78     59.89   78.62          76   \n",
       "4        4    chokurdakh      RU  70.62     32.17  147.90           0   \n",
       "\n",
       "   Wind Speed  Humidity  \n",
       "0        6.93        62  \n",
       "1        5.64        94  \n",
       "2       10.11        91  \n",
       "3        0.94        89  \n",
       "4        2.95        88  "
      ]
     },
     "execution_count": 9,
     "metadata": {},
     "output_type": "execute_result"
    }
   ],
   "source": [
    "# Read csv file and convert into a Dataframe\n",
    "file_cities = pd.read_csv(cities_file)\n",
    "cities_df = pd.DataFrame(file_cities)\n",
    "cities_df = cities_df[[\"City_ID\", \"City\", \"Country\", \"Lat\", \"Max Temp\", \"Lng\", \n",
    "                      \"Cloudiness\", \"Wind Speed\", \"Humidity\"]]\n",
    "cities_df.head()"
   ]
  },
  {
   "cell_type": "code",
   "execution_count": 10,
   "metadata": {},
   "outputs": [],
   "source": [
    "cities_df.to_html('./Resources/cities.html', index=False)"
   ]
  }
 ],
 "metadata": {
  "kernelspec": {
   "display_name": "Python 3",
   "language": "python",
   "name": "python3"
  },
  "language_info": {
   "codemirror_mode": {
    "name": "ipython",
    "version": 3
   },
   "file_extension": ".py",
   "mimetype": "text/x-python",
   "name": "python",
   "nbconvert_exporter": "python",
   "pygments_lexer": "ipython3",
   "version": "3.7.4"
  }
 },
 "nbformat": 4,
 "nbformat_minor": 2
}
